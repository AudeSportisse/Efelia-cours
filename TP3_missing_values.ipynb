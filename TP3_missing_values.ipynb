{
 "cells": [
  {
   "cell_type": "markdown",
   "id": "628e888e",
   "metadata": {},
   "source": [
    "# Imputation de données manquantes avec une forêt aléatoire\n",
    "*Aude Sportisse*"
   ]
  },
  {
   "cell_type": "code",
   "execution_count": 1,
   "id": "c3a6dc3d",
   "metadata": {},
   "outputs": [],
   "source": [
    "from sklearn.impute import SimpleImputer\n",
    "import numpy as np\n",
    "import pandas as pd\n",
    "from sklearn.experimental import enable_iterative_imputer\n",
    "from sklearn.impute import IterativeImputer\n",
    "from sklearn.ensemble import ExtraTreesRegressor"
   ]
  },
  {
   "cell_type": "code",
   "execution_count": 2,
   "id": "c8ee3f69",
   "metadata": {},
   "outputs": [],
   "source": [
    "np.random.seed(0)  #fixer la graine (pour reproduire les expériences)\n",
    "\n",
    "#on créée des données synthétiques (simulées à partir d'un modèle)\n",
    "n = 1000 \n",
    "p = 10 \n",
    "mean = np.repeat(0, p) \n",
    "cov = 0.5 * (np.ones((p,p)) + np.eye(p)) \n",
    "\n",
    "X_complet = np.random.multivariate_normal(mean, cov, size = n) #c'est le jeu de données sans données manquantes"
   ]
  },
  {
   "cell_type": "code",
   "execution_count": 3,
   "id": "2741aa05",
   "metadata": {},
   "outputs": [
    {
     "data": {
      "text/html": [
       "<div>\n",
       "<style scoped>\n",
       "    .dataframe tbody tr th:only-of-type {\n",
       "        vertical-align: middle;\n",
       "    }\n",
       "\n",
       "    .dataframe tbody tr th {\n",
       "        vertical-align: top;\n",
       "    }\n",
       "\n",
       "    .dataframe thead th {\n",
       "        text-align: right;\n",
       "    }\n",
       "</style>\n",
       "<table border=\"1\" class=\"dataframe\">\n",
       "  <thead>\n",
       "    <tr style=\"text-align: right;\">\n",
       "      <th></th>\n",
       "      <th>0</th>\n",
       "      <th>1</th>\n",
       "      <th>2</th>\n",
       "      <th>3</th>\n",
       "      <th>4</th>\n",
       "      <th>5</th>\n",
       "      <th>6</th>\n",
       "      <th>7</th>\n",
       "      <th>8</th>\n",
       "      <th>9</th>\n",
       "    </tr>\n",
       "  </thead>\n",
       "  <tbody>\n",
       "    <tr>\n",
       "      <th>0</th>\n",
       "      <td>-0.651699</td>\n",
       "      <td>-1.577604</td>\n",
       "      <td>-1.010682</td>\n",
       "      <td>-2.534306</td>\n",
       "      <td>-1.942683</td>\n",
       "      <td>-1.044865</td>\n",
       "      <td>-1.116008</td>\n",
       "      <td>-2.467032</td>\n",
       "      <td>-0.625458</td>\n",
       "      <td>-0.112224</td>\n",
       "    </tr>\n",
       "    <tr>\n",
       "      <th>1</th>\n",
       "      <td>0.403694</td>\n",
       "      <td>0.369210</td>\n",
       "      <td>-0.868323</td>\n",
       "      <td>-1.207519</td>\n",
       "      <td>-0.175903</td>\n",
       "      <td>-0.560134</td>\n",
       "      <td>0.490021</td>\n",
       "      <td>0.146642</td>\n",
       "      <td>0.176617</td>\n",
       "      <td>0.157438</td>\n",
       "    </tr>\n",
       "    <tr>\n",
       "      <th>2</th>\n",
       "      <td>2.473229</td>\n",
       "      <td>1.953623</td>\n",
       "      <td>3.062872</td>\n",
       "      <td>0.523392</td>\n",
       "      <td>0.899866</td>\n",
       "      <td>2.893027</td>\n",
       "      <td>2.665302</td>\n",
       "      <td>1.683790</td>\n",
       "      <td>1.231245</td>\n",
       "      <td>1.547132</td>\n",
       "    </tr>\n",
       "    <tr>\n",
       "      <th>3</th>\n",
       "      <td>-0.710457</td>\n",
       "      <td>-0.086647</td>\n",
       "      <td>-0.385689</td>\n",
       "      <td>-0.591911</td>\n",
       "      <td>0.641094</td>\n",
       "      <td>-0.270124</td>\n",
       "      <td>-0.071070</td>\n",
       "      <td>1.318722</td>\n",
       "      <td>-0.996541</td>\n",
       "      <td>0.003502</td>\n",
       "    </tr>\n",
       "    <tr>\n",
       "      <th>4</th>\n",
       "      <td>-0.366973</td>\n",
       "      <td>0.394682</td>\n",
       "      <td>0.872166</td>\n",
       "      <td>2.017242</td>\n",
       "      <td>1.227314</td>\n",
       "      <td>1.143759</td>\n",
       "      <td>-0.366388</td>\n",
       "      <td>-0.207854</td>\n",
       "      <td>1.177430</td>\n",
       "      <td>1.884901</td>\n",
       "    </tr>\n",
       "  </tbody>\n",
       "</table>\n",
       "</div>"
      ],
      "text/plain": [
       "          0         1         2         3         4         5         6  \\\n",
       "0 -0.651699 -1.577604 -1.010682 -2.534306 -1.942683 -1.044865 -1.116008   \n",
       "1  0.403694  0.369210 -0.868323 -1.207519 -0.175903 -0.560134  0.490021   \n",
       "2  2.473229  1.953623  3.062872  0.523392  0.899866  2.893027  2.665302   \n",
       "3 -0.710457 -0.086647 -0.385689 -0.591911  0.641094 -0.270124 -0.071070   \n",
       "4 -0.366973  0.394682  0.872166  2.017242  1.227314  1.143759 -0.366388   \n",
       "\n",
       "          7         8         9  \n",
       "0 -2.467032 -0.625458 -0.112224  \n",
       "1  0.146642  0.176617  0.157438  \n",
       "2  1.683790  1.231245  1.547132  \n",
       "3  1.318722 -0.996541  0.003502  \n",
       "4 -0.207854  1.177430  1.884901  "
      ]
     },
     "execution_count": 3,
     "metadata": {},
     "output_type": "execute_result"
    }
   ],
   "source": [
    "pd.DataFrame(X_complet).head()"
   ]
  },
  {
   "cell_type": "code",
   "execution_count": 4,
   "id": "e7188e67",
   "metadata": {},
   "outputs": [],
   "source": [
    "pourcentage_NA = 0.5 #50% de données manquantes\n",
    "X_manquant = np.copy(X_complet)\n",
    "for j in range(p):\n",
    "    pattern_NA = np.random.choice(n, np.floor(n*pourcentage_NA).astype(int), replace=False)\n",
    "    X_manquant[pattern_NA,j] = np.nan\n",
    "Mask = np.isfinite(X_manquant) #matrice indiquant où sont les données manquantes dans X"
   ]
  },
  {
   "cell_type": "code",
   "execution_count": 5,
   "id": "bb58496e",
   "metadata": {},
   "outputs": [
    {
     "data": {
      "text/html": [
       "<style type=\"text/css\">\n",
       "#T_fbb1e_row0_col1, #T_fbb1e_row0_col6, #T_fbb1e_row0_col8, #T_fbb1e_row1_col2, #T_fbb1e_row1_col3, #T_fbb1e_row1_col4, #T_fbb1e_row1_col5, #T_fbb1e_row1_col7, #T_fbb1e_row1_col8, #T_fbb1e_row2_col2, #T_fbb1e_row2_col4, #T_fbb1e_row2_col5, #T_fbb1e_row2_col6, #T_fbb1e_row2_col7, #T_fbb1e_row2_col9, #T_fbb1e_row3_col0, #T_fbb1e_row3_col2, #T_fbb1e_row3_col3, #T_fbb1e_row3_col4, #T_fbb1e_row3_col6, #T_fbb1e_row3_col8, #T_fbb1e_row3_col9, #T_fbb1e_row4_col0, #T_fbb1e_row4_col2, #T_fbb1e_row4_col3, #T_fbb1e_row4_col4, #T_fbb1e_row4_col6, #T_fbb1e_row4_col7, #T_fbb1e_row4_col8 {\n",
       "  background-color: orange;\n",
       "}\n",
       "</style>\n",
       "<table id=\"T_fbb1e\">\n",
       "  <thead>\n",
       "    <tr>\n",
       "      <th class=\"blank level0\" >&nbsp;</th>\n",
       "      <th id=\"T_fbb1e_level0_col0\" class=\"col_heading level0 col0\" >0</th>\n",
       "      <th id=\"T_fbb1e_level0_col1\" class=\"col_heading level0 col1\" >1</th>\n",
       "      <th id=\"T_fbb1e_level0_col2\" class=\"col_heading level0 col2\" >2</th>\n",
       "      <th id=\"T_fbb1e_level0_col3\" class=\"col_heading level0 col3\" >3</th>\n",
       "      <th id=\"T_fbb1e_level0_col4\" class=\"col_heading level0 col4\" >4</th>\n",
       "      <th id=\"T_fbb1e_level0_col5\" class=\"col_heading level0 col5\" >5</th>\n",
       "      <th id=\"T_fbb1e_level0_col6\" class=\"col_heading level0 col6\" >6</th>\n",
       "      <th id=\"T_fbb1e_level0_col7\" class=\"col_heading level0 col7\" >7</th>\n",
       "      <th id=\"T_fbb1e_level0_col8\" class=\"col_heading level0 col8\" >8</th>\n",
       "      <th id=\"T_fbb1e_level0_col9\" class=\"col_heading level0 col9\" >9</th>\n",
       "    </tr>\n",
       "  </thead>\n",
       "  <tbody>\n",
       "    <tr>\n",
       "      <th id=\"T_fbb1e_level0_row0\" class=\"row_heading level0 row0\" >0</th>\n",
       "      <td id=\"T_fbb1e_row0_col0\" class=\"data row0 col0\" >-0.651699</td>\n",
       "      <td id=\"T_fbb1e_row0_col1\" class=\"data row0 col1\" >nan</td>\n",
       "      <td id=\"T_fbb1e_row0_col2\" class=\"data row0 col2\" >-1.010682</td>\n",
       "      <td id=\"T_fbb1e_row0_col3\" class=\"data row0 col3\" >-2.534306</td>\n",
       "      <td id=\"T_fbb1e_row0_col4\" class=\"data row0 col4\" >-1.942683</td>\n",
       "      <td id=\"T_fbb1e_row0_col5\" class=\"data row0 col5\" >-1.044865</td>\n",
       "      <td id=\"T_fbb1e_row0_col6\" class=\"data row0 col6\" >nan</td>\n",
       "      <td id=\"T_fbb1e_row0_col7\" class=\"data row0 col7\" >-2.467032</td>\n",
       "      <td id=\"T_fbb1e_row0_col8\" class=\"data row0 col8\" >nan</td>\n",
       "      <td id=\"T_fbb1e_row0_col9\" class=\"data row0 col9\" >-0.112224</td>\n",
       "    </tr>\n",
       "    <tr>\n",
       "      <th id=\"T_fbb1e_level0_row1\" class=\"row_heading level0 row1\" >1</th>\n",
       "      <td id=\"T_fbb1e_row1_col0\" class=\"data row1 col0\" >0.403694</td>\n",
       "      <td id=\"T_fbb1e_row1_col1\" class=\"data row1 col1\" >0.369210</td>\n",
       "      <td id=\"T_fbb1e_row1_col2\" class=\"data row1 col2\" >nan</td>\n",
       "      <td id=\"T_fbb1e_row1_col3\" class=\"data row1 col3\" >nan</td>\n",
       "      <td id=\"T_fbb1e_row1_col4\" class=\"data row1 col4\" >nan</td>\n",
       "      <td id=\"T_fbb1e_row1_col5\" class=\"data row1 col5\" >nan</td>\n",
       "      <td id=\"T_fbb1e_row1_col6\" class=\"data row1 col6\" >0.490021</td>\n",
       "      <td id=\"T_fbb1e_row1_col7\" class=\"data row1 col7\" >nan</td>\n",
       "      <td id=\"T_fbb1e_row1_col8\" class=\"data row1 col8\" >nan</td>\n",
       "      <td id=\"T_fbb1e_row1_col9\" class=\"data row1 col9\" >0.157438</td>\n",
       "    </tr>\n",
       "    <tr>\n",
       "      <th id=\"T_fbb1e_level0_row2\" class=\"row_heading level0 row2\" >2</th>\n",
       "      <td id=\"T_fbb1e_row2_col0\" class=\"data row2 col0\" >2.473229</td>\n",
       "      <td id=\"T_fbb1e_row2_col1\" class=\"data row2 col1\" >1.953623</td>\n",
       "      <td id=\"T_fbb1e_row2_col2\" class=\"data row2 col2\" >nan</td>\n",
       "      <td id=\"T_fbb1e_row2_col3\" class=\"data row2 col3\" >0.523392</td>\n",
       "      <td id=\"T_fbb1e_row2_col4\" class=\"data row2 col4\" >nan</td>\n",
       "      <td id=\"T_fbb1e_row2_col5\" class=\"data row2 col5\" >nan</td>\n",
       "      <td id=\"T_fbb1e_row2_col6\" class=\"data row2 col6\" >nan</td>\n",
       "      <td id=\"T_fbb1e_row2_col7\" class=\"data row2 col7\" >nan</td>\n",
       "      <td id=\"T_fbb1e_row2_col8\" class=\"data row2 col8\" >1.231245</td>\n",
       "      <td id=\"T_fbb1e_row2_col9\" class=\"data row2 col9\" >nan</td>\n",
       "    </tr>\n",
       "    <tr>\n",
       "      <th id=\"T_fbb1e_level0_row3\" class=\"row_heading level0 row3\" >3</th>\n",
       "      <td id=\"T_fbb1e_row3_col0\" class=\"data row3 col0\" >nan</td>\n",
       "      <td id=\"T_fbb1e_row3_col1\" class=\"data row3 col1\" >-0.086647</td>\n",
       "      <td id=\"T_fbb1e_row3_col2\" class=\"data row3 col2\" >nan</td>\n",
       "      <td id=\"T_fbb1e_row3_col3\" class=\"data row3 col3\" >nan</td>\n",
       "      <td id=\"T_fbb1e_row3_col4\" class=\"data row3 col4\" >nan</td>\n",
       "      <td id=\"T_fbb1e_row3_col5\" class=\"data row3 col5\" >-0.270124</td>\n",
       "      <td id=\"T_fbb1e_row3_col6\" class=\"data row3 col6\" >nan</td>\n",
       "      <td id=\"T_fbb1e_row3_col7\" class=\"data row3 col7\" >1.318722</td>\n",
       "      <td id=\"T_fbb1e_row3_col8\" class=\"data row3 col8\" >nan</td>\n",
       "      <td id=\"T_fbb1e_row3_col9\" class=\"data row3 col9\" >nan</td>\n",
       "    </tr>\n",
       "    <tr>\n",
       "      <th id=\"T_fbb1e_level0_row4\" class=\"row_heading level0 row4\" >4</th>\n",
       "      <td id=\"T_fbb1e_row4_col0\" class=\"data row4 col0\" >nan</td>\n",
       "      <td id=\"T_fbb1e_row4_col1\" class=\"data row4 col1\" >0.394682</td>\n",
       "      <td id=\"T_fbb1e_row4_col2\" class=\"data row4 col2\" >nan</td>\n",
       "      <td id=\"T_fbb1e_row4_col3\" class=\"data row4 col3\" >nan</td>\n",
       "      <td id=\"T_fbb1e_row4_col4\" class=\"data row4 col4\" >nan</td>\n",
       "      <td id=\"T_fbb1e_row4_col5\" class=\"data row4 col5\" >1.143759</td>\n",
       "      <td id=\"T_fbb1e_row4_col6\" class=\"data row4 col6\" >nan</td>\n",
       "      <td id=\"T_fbb1e_row4_col7\" class=\"data row4 col7\" >nan</td>\n",
       "      <td id=\"T_fbb1e_row4_col8\" class=\"data row4 col8\" >nan</td>\n",
       "      <td id=\"T_fbb1e_row4_col9\" class=\"data row4 col9\" >1.884901</td>\n",
       "    </tr>\n",
       "  </tbody>\n",
       "</table>\n"
      ],
      "text/plain": [
       "<pandas.io.formats.style.Styler at 0x107c8d150>"
      ]
     },
     "execution_count": 5,
     "metadata": {},
     "output_type": "execute_result"
    }
   ],
   "source": [
    "pd.DataFrame(X_manquant).head().style.highlight_null(color='orange')"
   ]
  },
  {
   "cell_type": "markdown",
   "id": "aaeab8cd",
   "metadata": {},
   "source": [
    "## Imputer en utilisant la moyenne"
   ]
  },
  {
   "cell_type": "code",
   "execution_count": 6,
   "id": "afb03a64",
   "metadata": {},
   "outputs": [],
   "source": [
    "X_mean = SimpleImputer().fit_transform(X_manquant)"
   ]
  },
  {
   "cell_type": "code",
   "execution_count": 8,
   "id": "9e346a20",
   "metadata": {},
   "outputs": [
    {
     "data": {
      "text/html": [
       "<style type=\"text/css\">\n",
       "#T_2cede_row0_col0, #T_2cede_row0_col2, #T_2cede_row0_col3, #T_2cede_row0_col4, #T_2cede_row0_col5, #T_2cede_row0_col7, #T_2cede_row0_col9, #T_2cede_row1_col0, #T_2cede_row1_col1, #T_2cede_row1_col6, #T_2cede_row1_col9, #T_2cede_row2_col0, #T_2cede_row2_col1, #T_2cede_row2_col3, #T_2cede_row2_col8, #T_2cede_row3_col1, #T_2cede_row3_col5, #T_2cede_row3_col7, #T_2cede_row4_col1, #T_2cede_row4_col5, #T_2cede_row4_col9 {\n",
       "  background-color: None;\n",
       "}\n",
       "#T_2cede_row0_col1, #T_2cede_row0_col6, #T_2cede_row0_col8, #T_2cede_row1_col2, #T_2cede_row1_col3, #T_2cede_row1_col4, #T_2cede_row1_col5, #T_2cede_row1_col7, #T_2cede_row1_col8, #T_2cede_row2_col2, #T_2cede_row2_col4, #T_2cede_row2_col5, #T_2cede_row2_col6, #T_2cede_row2_col7, #T_2cede_row2_col9, #T_2cede_row3_col0, #T_2cede_row3_col2, #T_2cede_row3_col3, #T_2cede_row3_col4, #T_2cede_row3_col6, #T_2cede_row3_col8, #T_2cede_row3_col9, #T_2cede_row4_col0, #T_2cede_row4_col2, #T_2cede_row4_col3, #T_2cede_row4_col4, #T_2cede_row4_col6, #T_2cede_row4_col7, #T_2cede_row4_col8 {\n",
       "  background-color: orange;\n",
       "}\n",
       "</style>\n",
       "<table id=\"T_2cede\">\n",
       "  <thead>\n",
       "    <tr>\n",
       "      <th class=\"blank level0\" >&nbsp;</th>\n",
       "      <th id=\"T_2cede_level0_col0\" class=\"col_heading level0 col0\" >0</th>\n",
       "      <th id=\"T_2cede_level0_col1\" class=\"col_heading level0 col1\" >1</th>\n",
       "      <th id=\"T_2cede_level0_col2\" class=\"col_heading level0 col2\" >2</th>\n",
       "      <th id=\"T_2cede_level0_col3\" class=\"col_heading level0 col3\" >3</th>\n",
       "      <th id=\"T_2cede_level0_col4\" class=\"col_heading level0 col4\" >4</th>\n",
       "      <th id=\"T_2cede_level0_col5\" class=\"col_heading level0 col5\" >5</th>\n",
       "      <th id=\"T_2cede_level0_col6\" class=\"col_heading level0 col6\" >6</th>\n",
       "      <th id=\"T_2cede_level0_col7\" class=\"col_heading level0 col7\" >7</th>\n",
       "      <th id=\"T_2cede_level0_col8\" class=\"col_heading level0 col8\" >8</th>\n",
       "      <th id=\"T_2cede_level0_col9\" class=\"col_heading level0 col9\" >9</th>\n",
       "    </tr>\n",
       "  </thead>\n",
       "  <tbody>\n",
       "    <tr>\n",
       "      <th id=\"T_2cede_level0_row0\" class=\"row_heading level0 row0\" >0</th>\n",
       "      <td id=\"T_2cede_row0_col0\" class=\"data row0 col0\" >-0.651699</td>\n",
       "      <td id=\"T_2cede_row0_col1\" class=\"data row0 col1\" >0.020219</td>\n",
       "      <td id=\"T_2cede_row0_col2\" class=\"data row0 col2\" >-1.010682</td>\n",
       "      <td id=\"T_2cede_row0_col3\" class=\"data row0 col3\" >-2.534306</td>\n",
       "      <td id=\"T_2cede_row0_col4\" class=\"data row0 col4\" >-1.942683</td>\n",
       "      <td id=\"T_2cede_row0_col5\" class=\"data row0 col5\" >-1.044865</td>\n",
       "      <td id=\"T_2cede_row0_col6\" class=\"data row0 col6\" >0.011121</td>\n",
       "      <td id=\"T_2cede_row0_col7\" class=\"data row0 col7\" >-2.467032</td>\n",
       "      <td id=\"T_2cede_row0_col8\" class=\"data row0 col8\" >0.065752</td>\n",
       "      <td id=\"T_2cede_row0_col9\" class=\"data row0 col9\" >-0.112224</td>\n",
       "    </tr>\n",
       "    <tr>\n",
       "      <th id=\"T_2cede_level0_row1\" class=\"row_heading level0 row1\" >1</th>\n",
       "      <td id=\"T_2cede_row1_col0\" class=\"data row1 col0\" >0.403694</td>\n",
       "      <td id=\"T_2cede_row1_col1\" class=\"data row1 col1\" >0.369210</td>\n",
       "      <td id=\"T_2cede_row1_col2\" class=\"data row1 col2\" >0.089663</td>\n",
       "      <td id=\"T_2cede_row1_col3\" class=\"data row1 col3\" >-0.002638</td>\n",
       "      <td id=\"T_2cede_row1_col4\" class=\"data row1 col4\" >0.025460</td>\n",
       "      <td id=\"T_2cede_row1_col5\" class=\"data row1 col5\" >-0.009188</td>\n",
       "      <td id=\"T_2cede_row1_col6\" class=\"data row1 col6\" >0.490021</td>\n",
       "      <td id=\"T_2cede_row1_col7\" class=\"data row1 col7\" >0.046442</td>\n",
       "      <td id=\"T_2cede_row1_col8\" class=\"data row1 col8\" >0.065752</td>\n",
       "      <td id=\"T_2cede_row1_col9\" class=\"data row1 col9\" >0.157438</td>\n",
       "    </tr>\n",
       "    <tr>\n",
       "      <th id=\"T_2cede_level0_row2\" class=\"row_heading level0 row2\" >2</th>\n",
       "      <td id=\"T_2cede_row2_col0\" class=\"data row2 col0\" >2.473229</td>\n",
       "      <td id=\"T_2cede_row2_col1\" class=\"data row2 col1\" >1.953623</td>\n",
       "      <td id=\"T_2cede_row2_col2\" class=\"data row2 col2\" >0.089663</td>\n",
       "      <td id=\"T_2cede_row2_col3\" class=\"data row2 col3\" >0.523392</td>\n",
       "      <td id=\"T_2cede_row2_col4\" class=\"data row2 col4\" >0.025460</td>\n",
       "      <td id=\"T_2cede_row2_col5\" class=\"data row2 col5\" >-0.009188</td>\n",
       "      <td id=\"T_2cede_row2_col6\" class=\"data row2 col6\" >0.011121</td>\n",
       "      <td id=\"T_2cede_row2_col7\" class=\"data row2 col7\" >0.046442</td>\n",
       "      <td id=\"T_2cede_row2_col8\" class=\"data row2 col8\" >1.231245</td>\n",
       "      <td id=\"T_2cede_row2_col9\" class=\"data row2 col9\" >-0.033378</td>\n",
       "    </tr>\n",
       "    <tr>\n",
       "      <th id=\"T_2cede_level0_row3\" class=\"row_heading level0 row3\" >3</th>\n",
       "      <td id=\"T_2cede_row3_col0\" class=\"data row3 col0\" >-0.004717</td>\n",
       "      <td id=\"T_2cede_row3_col1\" class=\"data row3 col1\" >-0.086647</td>\n",
       "      <td id=\"T_2cede_row3_col2\" class=\"data row3 col2\" >0.089663</td>\n",
       "      <td id=\"T_2cede_row3_col3\" class=\"data row3 col3\" >-0.002638</td>\n",
       "      <td id=\"T_2cede_row3_col4\" class=\"data row3 col4\" >0.025460</td>\n",
       "      <td id=\"T_2cede_row3_col5\" class=\"data row3 col5\" >-0.270124</td>\n",
       "      <td id=\"T_2cede_row3_col6\" class=\"data row3 col6\" >0.011121</td>\n",
       "      <td id=\"T_2cede_row3_col7\" class=\"data row3 col7\" >1.318722</td>\n",
       "      <td id=\"T_2cede_row3_col8\" class=\"data row3 col8\" >0.065752</td>\n",
       "      <td id=\"T_2cede_row3_col9\" class=\"data row3 col9\" >-0.033378</td>\n",
       "    </tr>\n",
       "    <tr>\n",
       "      <th id=\"T_2cede_level0_row4\" class=\"row_heading level0 row4\" >4</th>\n",
       "      <td id=\"T_2cede_row4_col0\" class=\"data row4 col0\" >-0.004717</td>\n",
       "      <td id=\"T_2cede_row4_col1\" class=\"data row4 col1\" >0.394682</td>\n",
       "      <td id=\"T_2cede_row4_col2\" class=\"data row4 col2\" >0.089663</td>\n",
       "      <td id=\"T_2cede_row4_col3\" class=\"data row4 col3\" >-0.002638</td>\n",
       "      <td id=\"T_2cede_row4_col4\" class=\"data row4 col4\" >0.025460</td>\n",
       "      <td id=\"T_2cede_row4_col5\" class=\"data row4 col5\" >1.143759</td>\n",
       "      <td id=\"T_2cede_row4_col6\" class=\"data row4 col6\" >0.011121</td>\n",
       "      <td id=\"T_2cede_row4_col7\" class=\"data row4 col7\" >0.046442</td>\n",
       "      <td id=\"T_2cede_row4_col8\" class=\"data row4 col8\" >0.065752</td>\n",
       "      <td id=\"T_2cede_row4_col9\" class=\"data row4 col9\" >1.884901</td>\n",
       "    </tr>\n",
       "  </tbody>\n",
       "</table>\n"
      ],
      "text/plain": [
       "<pandas.io.formats.style.Styler at 0x161cd3a90>"
      ]
     },
     "execution_count": 8,
     "metadata": {},
     "output_type": "execute_result"
    }
   ],
   "source": [
    "def color_imputedvalues_orange(val, x_miss):\n",
    "    color = 'orange' if val not in x_miss else 'None'\n",
    "    return 'background-color: %s' % color\n",
    "\n",
    "pd.DataFrame(X_mean).head().style.applymap(color_imputedvalues_orange, x_miss=X_manquant)"
   ]
  },
  {
   "cell_type": "markdown",
   "id": "9a8c105b",
   "metadata": {},
   "source": [
    "## Imputer avec une forêts aléatoires"
   ]
  },
  {
   "cell_type": "code",
   "execution_count": 9,
   "id": "6a735b02",
   "metadata": {},
   "outputs": [
    {
     "name": "stderr",
     "output_type": "stream",
     "text": [
      "/Users/asportis/anaconda3/lib/python3.11/site-packages/sklearn/impute/_iterative.py:796: ConvergenceWarning: [IterativeImputer] Early stopping criterion not reached.\n",
      "  warnings.warn(\n"
     ]
    }
   ],
   "source": [
    "estimateur_rf = ExtraTreesRegressor(n_estimators=10, random_state=0) #max_depth\n",
    "X_rf = IterativeImputer(estimator=estimateur_rf, random_state=0, max_iter=50).fit_transform(X_manquant)"
   ]
  },
  {
   "cell_type": "code",
   "execution_count": 10,
   "id": "4bbf0ec3",
   "metadata": {},
   "outputs": [
    {
     "data": {
      "text/html": [
       "<style type=\"text/css\">\n",
       "#T_fef36_row0_col0, #T_fef36_row0_col2, #T_fef36_row0_col3, #T_fef36_row0_col4, #T_fef36_row0_col5, #T_fef36_row0_col7, #T_fef36_row0_col9, #T_fef36_row1_col0, #T_fef36_row1_col1, #T_fef36_row1_col6, #T_fef36_row1_col9, #T_fef36_row2_col0, #T_fef36_row2_col1, #T_fef36_row2_col3, #T_fef36_row2_col8, #T_fef36_row3_col1, #T_fef36_row3_col5, #T_fef36_row3_col7, #T_fef36_row4_col1, #T_fef36_row4_col5, #T_fef36_row4_col9 {\n",
       "  background-color: None;\n",
       "}\n",
       "#T_fef36_row0_col1, #T_fef36_row0_col6, #T_fef36_row0_col8, #T_fef36_row1_col2, #T_fef36_row1_col3, #T_fef36_row1_col4, #T_fef36_row1_col5, #T_fef36_row1_col7, #T_fef36_row1_col8, #T_fef36_row2_col2, #T_fef36_row2_col4, #T_fef36_row2_col5, #T_fef36_row2_col6, #T_fef36_row2_col7, #T_fef36_row2_col9, #T_fef36_row3_col0, #T_fef36_row3_col2, #T_fef36_row3_col3, #T_fef36_row3_col4, #T_fef36_row3_col6, #T_fef36_row3_col8, #T_fef36_row3_col9, #T_fef36_row4_col0, #T_fef36_row4_col2, #T_fef36_row4_col3, #T_fef36_row4_col4, #T_fef36_row4_col6, #T_fef36_row4_col7, #T_fef36_row4_col8 {\n",
       "  background-color: orange;\n",
       "}\n",
       "</style>\n",
       "<table id=\"T_fef36\">\n",
       "  <thead>\n",
       "    <tr>\n",
       "      <th class=\"blank level0\" >&nbsp;</th>\n",
       "      <th id=\"T_fef36_level0_col0\" class=\"col_heading level0 col0\" >0</th>\n",
       "      <th id=\"T_fef36_level0_col1\" class=\"col_heading level0 col1\" >1</th>\n",
       "      <th id=\"T_fef36_level0_col2\" class=\"col_heading level0 col2\" >2</th>\n",
       "      <th id=\"T_fef36_level0_col3\" class=\"col_heading level0 col3\" >3</th>\n",
       "      <th id=\"T_fef36_level0_col4\" class=\"col_heading level0 col4\" >4</th>\n",
       "      <th id=\"T_fef36_level0_col5\" class=\"col_heading level0 col5\" >5</th>\n",
       "      <th id=\"T_fef36_level0_col6\" class=\"col_heading level0 col6\" >6</th>\n",
       "      <th id=\"T_fef36_level0_col7\" class=\"col_heading level0 col7\" >7</th>\n",
       "      <th id=\"T_fef36_level0_col8\" class=\"col_heading level0 col8\" >8</th>\n",
       "      <th id=\"T_fef36_level0_col9\" class=\"col_heading level0 col9\" >9</th>\n",
       "    </tr>\n",
       "  </thead>\n",
       "  <tbody>\n",
       "    <tr>\n",
       "      <th id=\"T_fef36_level0_row0\" class=\"row_heading level0 row0\" >0</th>\n",
       "      <td id=\"T_fef36_row0_col0\" class=\"data row0 col0\" >-0.651699</td>\n",
       "      <td id=\"T_fef36_row0_col1\" class=\"data row0 col1\" >-1.025556</td>\n",
       "      <td id=\"T_fef36_row0_col2\" class=\"data row0 col2\" >-1.010682</td>\n",
       "      <td id=\"T_fef36_row0_col3\" class=\"data row0 col3\" >-2.534306</td>\n",
       "      <td id=\"T_fef36_row0_col4\" class=\"data row0 col4\" >-1.942683</td>\n",
       "      <td id=\"T_fef36_row0_col5\" class=\"data row0 col5\" >-1.044865</td>\n",
       "      <td id=\"T_fef36_row0_col6\" class=\"data row0 col6\" >-0.634891</td>\n",
       "      <td id=\"T_fef36_row0_col7\" class=\"data row0 col7\" >-2.467032</td>\n",
       "      <td id=\"T_fef36_row0_col8\" class=\"data row0 col8\" >-1.305865</td>\n",
       "      <td id=\"T_fef36_row0_col9\" class=\"data row0 col9\" >-0.112224</td>\n",
       "    </tr>\n",
       "    <tr>\n",
       "      <th id=\"T_fef36_level0_row1\" class=\"row_heading level0 row1\" >1</th>\n",
       "      <td id=\"T_fef36_row1_col0\" class=\"data row1 col0\" >0.403694</td>\n",
       "      <td id=\"T_fef36_row1_col1\" class=\"data row1 col1\" >0.369210</td>\n",
       "      <td id=\"T_fef36_row1_col2\" class=\"data row1 col2\" >0.080302</td>\n",
       "      <td id=\"T_fef36_row1_col3\" class=\"data row1 col3\" >0.158790</td>\n",
       "      <td id=\"T_fef36_row1_col4\" class=\"data row1 col4\" >-0.099317</td>\n",
       "      <td id=\"T_fef36_row1_col5\" class=\"data row1 col5\" >-0.069162</td>\n",
       "      <td id=\"T_fef36_row1_col6\" class=\"data row1 col6\" >0.490021</td>\n",
       "      <td id=\"T_fef36_row1_col7\" class=\"data row1 col7\" >0.405483</td>\n",
       "      <td id=\"T_fef36_row1_col8\" class=\"data row1 col8\" >0.459631</td>\n",
       "      <td id=\"T_fef36_row1_col9\" class=\"data row1 col9\" >0.157438</td>\n",
       "    </tr>\n",
       "    <tr>\n",
       "      <th id=\"T_fef36_level0_row2\" class=\"row_heading level0 row2\" >2</th>\n",
       "      <td id=\"T_fef36_row2_col0\" class=\"data row2 col0\" >2.473229</td>\n",
       "      <td id=\"T_fef36_row2_col1\" class=\"data row2 col1\" >1.953623</td>\n",
       "      <td id=\"T_fef36_row2_col2\" class=\"data row2 col2\" >0.802843</td>\n",
       "      <td id=\"T_fef36_row2_col3\" class=\"data row2 col3\" >0.523392</td>\n",
       "      <td id=\"T_fef36_row2_col4\" class=\"data row2 col4\" >1.285050</td>\n",
       "      <td id=\"T_fef36_row2_col5\" class=\"data row2 col5\" >1.437487</td>\n",
       "      <td id=\"T_fef36_row2_col6\" class=\"data row2 col6\" >2.277692</td>\n",
       "      <td id=\"T_fef36_row2_col7\" class=\"data row2 col7\" >0.983895</td>\n",
       "      <td id=\"T_fef36_row2_col8\" class=\"data row2 col8\" >1.231245</td>\n",
       "      <td id=\"T_fef36_row2_col9\" class=\"data row2 col9\" >0.445855</td>\n",
       "    </tr>\n",
       "    <tr>\n",
       "      <th id=\"T_fef36_level0_row3\" class=\"row_heading level0 row3\" >3</th>\n",
       "      <td id=\"T_fef36_row3_col0\" class=\"data row3 col0\" >0.627407</td>\n",
       "      <td id=\"T_fef36_row3_col1\" class=\"data row3 col1\" >-0.086647</td>\n",
       "      <td id=\"T_fef36_row3_col2\" class=\"data row3 col2\" >0.292449</td>\n",
       "      <td id=\"T_fef36_row3_col3\" class=\"data row3 col3\" >-0.256355</td>\n",
       "      <td id=\"T_fef36_row3_col4\" class=\"data row3 col4\" >0.126218</td>\n",
       "      <td id=\"T_fef36_row3_col5\" class=\"data row3 col5\" >-0.270124</td>\n",
       "      <td id=\"T_fef36_row3_col6\" class=\"data row3 col6\" >0.465121</td>\n",
       "      <td id=\"T_fef36_row3_col7\" class=\"data row3 col7\" >1.318722</td>\n",
       "      <td id=\"T_fef36_row3_col8\" class=\"data row3 col8\" >0.282923</td>\n",
       "      <td id=\"T_fef36_row3_col9\" class=\"data row3 col9\" >0.458103</td>\n",
       "    </tr>\n",
       "    <tr>\n",
       "      <th id=\"T_fef36_level0_row4\" class=\"row_heading level0 row4\" >4</th>\n",
       "      <td id=\"T_fef36_row4_col0\" class=\"data row4 col0\" >0.381908</td>\n",
       "      <td id=\"T_fef36_row4_col1\" class=\"data row4 col1\" >0.394682</td>\n",
       "      <td id=\"T_fef36_row4_col2\" class=\"data row4 col2\" >1.375845</td>\n",
       "      <td id=\"T_fef36_row4_col3\" class=\"data row4 col3\" >0.934248</td>\n",
       "      <td id=\"T_fef36_row4_col4\" class=\"data row4 col4\" >0.935775</td>\n",
       "      <td id=\"T_fef36_row4_col5\" class=\"data row4 col5\" >1.143759</td>\n",
       "      <td id=\"T_fef36_row4_col6\" class=\"data row4 col6\" >0.251838</td>\n",
       "      <td id=\"T_fef36_row4_col7\" class=\"data row4 col7\" >0.861533</td>\n",
       "      <td id=\"T_fef36_row4_col8\" class=\"data row4 col8\" >0.332347</td>\n",
       "      <td id=\"T_fef36_row4_col9\" class=\"data row4 col9\" >1.884901</td>\n",
       "    </tr>\n",
       "  </tbody>\n",
       "</table>\n"
      ],
      "text/plain": [
       "<pandas.io.formats.style.Styler at 0x164409090>"
      ]
     },
     "execution_count": 10,
     "metadata": {},
     "output_type": "execute_result"
    }
   ],
   "source": [
    "pd.DataFrame(X_rf).head().style.applymap(color_imputedvalues_orange, x_miss=X_manquant)"
   ]
  },
  {
   "cell_type": "markdown",
   "id": "c9b0cb83",
   "metadata": {},
   "source": [
    "## Comparaison des deux méthodes"
   ]
  },
  {
   "cell_type": "code",
   "execution_count": 11,
   "id": "993f96bd",
   "metadata": {},
   "outputs": [],
   "source": [
    "def RMSE(X, X_true, mask):\n",
    "    mask_ = (1-mask).astype(bool)\n",
    "    return np.sqrt(((X[mask_] - X_true[mask_])**2).sum() / mask_.sum())"
   ]
  },
  {
   "cell_type": "code",
   "execution_count": 12,
   "id": "1362ff60",
   "metadata": {},
   "outputs": [
    {
     "data": {
      "text/plain": [
       "0.8611080489295024"
      ]
     },
     "execution_count": 12,
     "metadata": {},
     "output_type": "execute_result"
    }
   ],
   "source": [
    "RMSE(X_rf, X_complet, Mask)"
   ]
  },
  {
   "cell_type": "code",
   "execution_count": 13,
   "id": "70a910d1",
   "metadata": {},
   "outputs": [
    {
     "data": {
      "text/plain": [
       "0.9893929064810191"
      ]
     },
     "execution_count": 13,
     "metadata": {},
     "output_type": "execute_result"
    }
   ],
   "source": [
    "RMSE(X_mean, X_complet, Mask)"
   ]
  }
 ],
 "metadata": {
  "kernelspec": {
   "display_name": "Python 3 (ipykernel)",
   "language": "python",
   "name": "python3"
  },
  "language_info": {
   "codemirror_mode": {
    "name": "ipython",
    "version": 3
   },
   "file_extension": ".py",
   "mimetype": "text/x-python",
   "name": "python",
   "nbconvert_exporter": "python",
   "pygments_lexer": "ipython3",
   "version": "3.11.4"
  }
 },
 "nbformat": 4,
 "nbformat_minor": 5
}
